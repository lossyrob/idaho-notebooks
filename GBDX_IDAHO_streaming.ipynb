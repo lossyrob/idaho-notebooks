{
 "cells": [
  {
   "cell_type": "code",
   "execution_count": 96,
   "metadata": {
    "collapsed": true
   },
   "outputs": [],
   "source": [
    "from jupyter_map_gl import GlMap\n",
    "from IPython.display import display\n",
    "import requests\n",
    "import json\n",
    "import threading\n",
    "\n",
    "\n",
    "layers = [{\n",
    "    'id': 'dg',\n",
    "    'type': 'footprint',\n",
    "    'geojson': {'features': []},\n",
    "    'props': {\n",
    "        'fill': '#00B2EE',\n",
    "        'stroke': '#BFEFFF'\n",
    "    }}]\n",
    "\n",
    "glmap = GlMap(props={\n",
    "     'width': 1000, \n",
    "     'height': 400,\n",
    "     'latitude': 30.0,\n",
    "     'longitude': 0.0,\n",
    "     'zoom': 1,\n",
    "     'tileSource': 'https://cartodb-basemaps-b.global.ssl.fastly.net/dark_all/{z}/{x}/{y}@2x.png',\n",
    "     'layers': layers })\n",
    "\n",
    "display(glmap)\n",
    "\n",
    "\n",
    "def idaho_stream(config={\"fromDate\": \"2015-01-01\"}):\n",
    "    r = requests.post('http://idaho.timbr.io/filter', json=config, stream=True)\n",
    "    g = r.iter_lines()\n",
    "    return g\n",
    "\n",
    "def start(start, end, delay=None):\n",
    "    stream = idaho_stream(config={\"fromDate\": start, \"toDate\": end})\n",
    "\n",
    "    def fn():\n",
    "        for msg in stream:\n",
    "            glmap.add_features('dg', [json.loads(msg)])\n",
    "        \n",
    "    thread = threading.Thread(target=fn)\n",
    "    thread.start()\n",
    "\n",
    "\n",
    "start(\"2015-01-01\", \"2015-01-05\")"
   ]
  },
  {
   "cell_type": "code",
   "execution_count": 31,
   "metadata": {
    "collapsed": true
   },
   "outputs": [],
   "source": [
    "start(\"2015-01-01\", \"2015-01-05\")"
   ]
  },
  {
   "cell_type": "code",
   "execution_count": 97,
   "metadata": {
    "collapsed": false
   },
   "outputs": [
    {
     "name": "stdout",
     "output_type": "stream",
     "text": [
      "f9529db4-de40-41aa-8ec5-3f3a05e902e6 21\n"
     ]
    }
   ],
   "source": [
    "from collections import defaultdict\n",
    "\n",
    "chips = defaultdict(list)\n",
    "for f in glmap.features:\n",
    "    p = f['properties']\n",
    "    chips[p['idahoID']].append(p)\n",
    "    \n",
    "for k, p in chips.iteritems():\n",
    "    print k, len(p)"
   ]
  },
  {
   "cell_type": "code",
   "execution_count": 94,
   "metadata": {
    "collapsed": false
   },
   "outputs": [],
   "source": [
    "import requests\n",
    "import os\n",
    "import rasterio\n",
    "from rasterio.merge import merge\n",
    "import matplotlib.pyplot as plt\n",
    "import matplotlib.image as mpimg\n",
    "import numpy as np\n",
    "\n",
    "%matplotlib inline\n",
    "\n",
    "def get_chip_url(mid, zxy):\n",
    "    base = \"http://idaho.geobigdata.io/v1/tile/idaho-images/{}\".format(mid)\n",
    "    return \"{}/{}?bands=0,1,2,3,4,5,6,7&format=tif&token={}\".format(\n",
    "        base, '/'.join(map(str,[zxy[2],zxy[0],zxy[1]])), gbdx.gbdx_connection.access_token)\n",
    "\n",
    "def get_chip(name, mid, data, outdir):\n",
    "    url = get_chip_url(mid, data['zxy'])\n",
    "    path = os.path.join(outdir, name+'.tif')\n",
    "    wgs84 = os.path.join(outdir, name+'_wgs84.tif')\n",
    "    \n",
    "    if not os.path.exists(path):\n",
    "        print 'Retrieving Chip', path\n",
    "        r = requests.get(url)\n",
    "        if r.status_code == 200:\n",
    "            with open(path, 'wb') as the_file:\n",
    "                the_file.write(r.content)\n",
    "        else:\n",
    "            print('There was a problem retrieving IDAHO Image', url)\n",
    "            r.raise_for_status()\n",
    "\n",
    "        # georef the file \n",
    "        bounds = data['bounds']\n",
    "        cmd = \"gdal_translate -of GTiff -a_ullr {} {} {} {} -a_srs EPSG:4326 {} {}\".format(bounds[0], bounds[3], bounds[2], bounds[1], path, wgs84)\n",
    "        os.system(cmd) \n",
    "    return wgs84\n",
    "\n",
    "\n",
    "def fetch_chips(idaho_id, chips):\n",
    "    img_dir = os.path.join(os.environ.get('HOME','./'), 'gbdx', 'idaho', idaho_id)\n",
    "\n",
    "    if not os.path.exists(img_dir):\n",
    "        os.makedirs(img_dir)\n",
    "    \n",
    "    return [get_chip('{}_{}'.format(idaho_id,i), idaho_id, t, img_dir) for i,t in enumerate(chips[idaho_id])]\n",
    "\n",
    "def merge_chips(idaho_id, files):\n",
    "    sources = [rasterio.open(f) for f in files]\n",
    "    dest, output_transform = merge(sources)\n",
    "\n",
    "    profile = sources[0].profile\n",
    "    profile['transform'] = output_transform\n",
    "    profile['height'] = dest.shape[1]\n",
    "    profile['width'] = dest.shape[2]\n",
    "    profile['driver'] = 'GTiff'\n",
    "\n",
    "    img_dir = os.path.join(os.environ.get('HOME','./'), 'gbdx', 'idaho', idaho_id)\n",
    "    output = img_dir + '/merge.tif'\n",
    "    with rasterio.open(output, 'w', **profile) as dst:\n",
    "        dst.write(dest)\n",
    "    return output\n",
    "\n",
    "\n",
    "def stretch(rgb):\n",
    "    lims = np.percentile(rgb,(2,98),axis=(0,1))\n",
    "    for x in xrange(len(rgb[0,0,:])):\n",
    "        top = lims[:,x][1]\n",
    "        bottom = lims[:,x][0]\n",
    "        rgb[:,:,x] = (rgb[:,:,x]-bottom)/float(top-bottom)\n",
    "    return np.clip(rgb,0,1)\n",
    "    \n",
    "def render(tif, w=7, h=7):\n",
    "    with rasterio.drivers():\n",
    "        with rasterio.open(merged) as src:\n",
    "            b, g, r = src.read([2,3,5], masked=True).astype(np.float32)\n",
    "\n",
    "    rgb = stretch(np.dstack([r,g,b]))\n",
    "    \n",
    "    fig, ax = plt.subplots(1, figsize=(w,h), facecolor='white')\n",
    "    ax.axis('off')\n",
    "    #rgb[ rgb == 0.0 ] = 1\n",
    "    imgplot = plt.imshow(rgb)\n",
    "    plt.show() \n",
    "\n",
    "    \n",
    "def create_index(tif_path, index_type):\n",
    " \n",
    "    def _calculate(NIR, Red, SWIR=None, Green=None):\n",
    "        if index_type == 'NDVI':\n",
    "            return (NIR - Red)/(NIR + Red)\n",
    "        elif index_type == 'NDWI':\n",
    "            return (Green - NIR)/(Green + NIR)\n",
    "        elif index_type == 'NBR':\n",
    "            return  (NIR - SWIR)/(NIR + SWIR)\n",
    "        else: # SAVI\n",
    "            return ((NIR - Red)/(NIR + Red + 0.5)) * (1 + 0.5)\n",
    "    \n",
    "    with rasterio.drivers():\n",
    "        with rasterio.open(merged) as src:\n",
    "           b, g, r, nir = src.read([2,3,5,7], masked=True).astype(np.float32)\n",
    "        \n",
    "    index = _calculate(nir, r, Green=g) \n",
    "    rgb = stretch(np.dstack([r,g,b]))\n",
    "    \n",
    "    fig, (ax1, ax2) = plt.subplots(1, 2, figsize=(10,10), facecolor='white')\n",
    "    ax1.axis('off')\n",
    "    ax2.axis('off')\n",
    "    ax1.imshow(index)\n",
    "    ax2.imshow(rgb)\n",
    "    plt.show() "
   ]
  },
  {
   "cell_type": "code",
   "execution_count": 99,
   "metadata": {
    "collapsed": false
   },
   "outputs": [
    {
     "name": "stdout",
     "output_type": "stream",
     "text": [
      "['/Users/chelm/gbdx/idaho/f9529db4-de40-41aa-8ec5-3f3a05e902e6/f9529db4-de40-41aa-8ec5-3f3a05e902e6_0_wgs84.tif', '/Users/chelm/gbdx/idaho/f9529db4-de40-41aa-8ec5-3f3a05e902e6/f9529db4-de40-41aa-8ec5-3f3a05e902e6_1_wgs84.tif', '/Users/chelm/gbdx/idaho/f9529db4-de40-41aa-8ec5-3f3a05e902e6/f9529db4-de40-41aa-8ec5-3f3a05e902e6_2_wgs84.tif', '/Users/chelm/gbdx/idaho/f9529db4-de40-41aa-8ec5-3f3a05e902e6/f9529db4-de40-41aa-8ec5-3f3a05e902e6_3_wgs84.tif', '/Users/chelm/gbdx/idaho/f9529db4-de40-41aa-8ec5-3f3a05e902e6/f9529db4-de40-41aa-8ec5-3f3a05e902e6_4_wgs84.tif', '/Users/chelm/gbdx/idaho/f9529db4-de40-41aa-8ec5-3f3a05e902e6/f9529db4-de40-41aa-8ec5-3f3a05e902e6_5_wgs84.tif', '/Users/chelm/gbdx/idaho/f9529db4-de40-41aa-8ec5-3f3a05e902e6/f9529db4-de40-41aa-8ec5-3f3a05e902e6_6_wgs84.tif', '/Users/chelm/gbdx/idaho/f9529db4-de40-41aa-8ec5-3f3a05e902e6/f9529db4-de40-41aa-8ec5-3f3a05e902e6_7_wgs84.tif', '/Users/chelm/gbdx/idaho/f9529db4-de40-41aa-8ec5-3f3a05e902e6/f9529db4-de40-41aa-8ec5-3f3a05e902e6_8_wgs84.tif', '/Users/chelm/gbdx/idaho/f9529db4-de40-41aa-8ec5-3f3a05e902e6/f9529db4-de40-41aa-8ec5-3f3a05e902e6_9_wgs84.tif', '/Users/chelm/gbdx/idaho/f9529db4-de40-41aa-8ec5-3f3a05e902e6/f9529db4-de40-41aa-8ec5-3f3a05e902e6_10_wgs84.tif', '/Users/chelm/gbdx/idaho/f9529db4-de40-41aa-8ec5-3f3a05e902e6/f9529db4-de40-41aa-8ec5-3f3a05e902e6_11_wgs84.tif', '/Users/chelm/gbdx/idaho/f9529db4-de40-41aa-8ec5-3f3a05e902e6/f9529db4-de40-41aa-8ec5-3f3a05e902e6_12_wgs84.tif', '/Users/chelm/gbdx/idaho/f9529db4-de40-41aa-8ec5-3f3a05e902e6/f9529db4-de40-41aa-8ec5-3f3a05e902e6_13_wgs84.tif', '/Users/chelm/gbdx/idaho/f9529db4-de40-41aa-8ec5-3f3a05e902e6/f9529db4-de40-41aa-8ec5-3f3a05e902e6_14_wgs84.tif', '/Users/chelm/gbdx/idaho/f9529db4-de40-41aa-8ec5-3f3a05e902e6/f9529db4-de40-41aa-8ec5-3f3a05e902e6_15_wgs84.tif', '/Users/chelm/gbdx/idaho/f9529db4-de40-41aa-8ec5-3f3a05e902e6/f9529db4-de40-41aa-8ec5-3f3a05e902e6_16_wgs84.tif', '/Users/chelm/gbdx/idaho/f9529db4-de40-41aa-8ec5-3f3a05e902e6/f9529db4-de40-41aa-8ec5-3f3a05e902e6_17_wgs84.tif', '/Users/chelm/gbdx/idaho/f9529db4-de40-41aa-8ec5-3f3a05e902e6/f9529db4-de40-41aa-8ec5-3f3a05e902e6_18_wgs84.tif', '/Users/chelm/gbdx/idaho/f9529db4-de40-41aa-8ec5-3f3a05e902e6/f9529db4-de40-41aa-8ec5-3f3a05e902e6_19_wgs84.tif', '/Users/chelm/gbdx/idaho/f9529db4-de40-41aa-8ec5-3f3a05e902e6/f9529db4-de40-41aa-8ec5-3f3a05e902e6_20_wgs84.tif']\n"
     ]
    }
   ],
   "source": [
    "from gbdxtools import Interface\n",
    "\n",
    "gbdx = Interface(\n",
    "    username='sean.gorman@timbr.io',\n",
    "    password='costarica#1',\n",
    "    client_id='7.XvxImig6Z9?P8nK=q8sWZByJPQ;YMNKjCGK5y?',\n",
    "    client_secret='W1r?WmxbMhwORtLipCMGs_IL;8xd8Q12Pklwi?PdY9G-VXoByWLUZZ!fWA=sPMOhf0c?45F;:8Dt@=y3_ay7lS=vPdjMqam;?6eS!:U;_tpdAI9u0=PDaYXHsN:d9;gL')\n",
    "\n",
    "\n",
    "idaho_id = chips.keys()[0]\n",
    "\n",
    "files = fetch_chips(idaho_id, chips)\n",
    "print files\n",
    "#merged = merge_chips(idaho_id, files)\n",
    "#render(merged, w=10)\n",
    "#create_index(merged, 'NDVI')"
   ]
  }
 ],
 "metadata": {
  "kernelspec": {
   "display_name": "Python 2",
   "language": "python",
   "name": "python2"
  },
  "language_info": {
   "codemirror_mode": {
    "name": "ipython",
    "version": 2
   },
   "file_extension": ".py",
   "mimetype": "text/x-python",
   "name": "python",
   "nbconvert_exporter": "python",
   "pygments_lexer": "ipython2",
   "version": "2.7.11"
  },
  "react_comms": {
   "jupyter_react.3e40dc50-6afe-417e-a9cf-e641b52a898c.GlMap": "0",
   "jupyter_react.43519603-4486-4539-8ef1-bf0b196adfd5.GlMap": "0",
   "jupyter_react.4629f9f7-24bc-4638-86af-19c1e7e6752e.GlMap": "0",
   "jupyter_react.5cf451ca-5548-486e-a7be-6e81e9d7dd6b.GlMap": "0",
   "jupyter_react.60319f1d-f419-4221-8ad2-1f2cb51b0622.GlMap": "0",
   "jupyter_react.7535986c-5766-4846-a846-8aef39a7439b.GlMap": "0",
   "jupyter_react.8c883f98-4dfc-475a-88b2-145014d15960.GlMap": "0",
   "jupyter_react.8e5a286b-70ed-4664-a8bd-114a67405dd8.GlMap": "0",
   "jupyter_react.94b9e221-bd93-4471-b12d-d644d3eff391.GlMap": "0",
   "jupyter_react.97efa3fe-d924-4b4c-8a55-323dd5fae34e.GlMap": "0",
   "jupyter_react.a039f468-26a4-468d-ba91-491062c388f0.GlMap": "0",
   "jupyter_react.cdaf6480-3f39-4aae-8376-e793b83f7532.GlMap": "0",
   "jupyter_react.d17a3a53-df17-4e57-8e38-1e9080ae1d8d.GlMap": "0",
   "jupyter_react.d70480e2-db68-47b8-bd7d-9f9cf150879d.GlMap": "0",
   "jupyter_react.f20333cb-8ed8-43d7-a453-d0cba75f148d.GlMap": "0"
  },
  "timbr_enabled": false
 },
 "nbformat": 4,
 "nbformat_minor": 0
}
