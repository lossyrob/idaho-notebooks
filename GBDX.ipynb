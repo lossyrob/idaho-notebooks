{
 "cells": [
  {
   "cell_type": "markdown",
   "metadata": {},
   "source": [
    "# Interactive Analysis on GBDX via Juno\n",
    "\n",
    "Using Juno and a Juno Kernel running on GBDX, it's possible to have interactive remote access to DigitalGlobe data using a familiar notebook interface.  To do this you need to connect to the remote kernel that was setup using the GBDX Kernel Launcher notebook."
   ]
  },
  {
   "cell_type": "code",
   "execution_count": 1,
   "metadata": {
    "collapsed": false
   },
   "outputs": [],
   "source": [
    "%reload_ext juno_magic"
   ]
  },
  {
   "cell_type": "code",
   "execution_count": 2,
   "metadata": {
    "collapsed": false
   },
   "outputs": [
    {
     "name": "stderr",
     "output_type": "stream",
     "text": [
      "Unhandled error in Deferred:\n",
      "\n",
      "\n",
      "Traceback (most recent call last):\n",
      "  File \"<decorator-gen-122>\", line 2, in juno\n",
      "    \n",
      "  File \"/home/prak/anaconda/envs/ship/lib/python2.7/site-packages/IPython/core/magic.py\", line 188, in <lambda>\n",
      "    call = lambda f, *a, **k: f(*a, **k)\n",
      "  File \"/home/prak/anaconda/envs/ship/lib/python2.7/site-packages/juno_magic/extensions/wamp.py\", line 288, in juno\n",
      "    output = args.fn(cell=cell, **vars(args))\n",
      "  File \"/home/prak/anaconda/envs/ship/lib/python2.7/site-packages/twisted/internet/defer.py\", line 1331, in unwindGenerator\n",
      "    return _inlineCallbacks(None, gen, Deferred())\n",
      "--- <exception caught here> ---\n",
      "  File \"/home/prak/anaconda/envs/ship/lib/python2.7/site-packages/twisted/internet/defer.py\", line 1185, in _inlineCallbacks\n",
      "    result = g.send(result)\n",
      "  File \"/home/prak/anaconda/envs/ship/lib/python2.7/site-packages/juno_magic/extensions/wamp.py\", line 339, in list\n",
      "    yield self.connect(self._router_url)\n",
      "  File \"/home/prak/anaconda/envs/ship/lib/python2.7/site-packages/juno_magic/extensions/wamp.py\", line 311, in connect\n",
      "    self._wamp_runner = _wamp_application_runner.run(build_bridge_class(self), start_reactor=False) # -> returns a deferred\n",
      "  File \"/home/prak/anaconda/envs/ship/lib/python2.7/site-packages/juno_magic/runner.py\", line 86, in run\n",
      "    from twisted.internet.ssl import optionsForClientTLS\n",
      "  File \"/home/prak/anaconda/envs/ship/lib/python2.7/site-packages/twisted/internet/ssl.py\", line 59, in <module>\n",
      "    from OpenSSL import SSL\n",
      "  File \"/home/prak/anaconda/envs/ship/lib/python2.7/site-packages/OpenSSL/__init__.py\", line 8, in <module>\n",
      "    from OpenSSL import rand, crypto, SSL\n",
      "  File \"/home/prak/anaconda/envs/ship/lib/python2.7/site-packages/OpenSSL/rand.py\", line 12, in <module>\n",
      "    from OpenSSL._util import (\n",
      "  File \"/home/prak/anaconda/envs/ship/lib/python2.7/site-packages/OpenSSL/_util.py\", line 6, in <module>\n",
      "    from cryptography.hazmat.bindings.openssl.binding import Binding\n",
      "  File \"/home/prak/anaconda/envs/ship/lib/python2.7/site-packages/cryptography/hazmat/bindings/openssl/binding.py\", line 14, in <module>\n",
      "    from cryptography.hazmat.bindings._openssl import ffi, lib\n",
      "exceptions.ImportError: libffi-72499c49.so.6.0.4: cannot open shared object file: No such file or directory\n"
     ]
    }
   ],
   "source": [
    "%juno list"
   ]
  },
  {
   "cell_type": "code",
   "execution_count": 2,
   "metadata": {
    "collapsed": false
   },
   "outputs": [
    {
     "name": "stdout",
     "output_type": "stream",
     "text": [
      "Successfully connected to wss://juno.timbr.io/wamp/route\n",
      "No previous subscriptions\n",
      "Kernel selected [io.timbr.kernel.2a04bc1d-910c-4f6f-97fd-59103e51fac5]\n"
     ]
    }
   ],
   "source": [
    "%juno select \"GBDX Testing\""
   ]
  },
  {
   "cell_type": "code",
   "execution_count": 51,
   "metadata": {
    "collapsed": false,
    "scrolled": false
   },
   "outputs": [
    {
     "data": {
      "application/javascript": [
       "$(\"#juno_status\").trigger(\"update\", [\"busy\"])"
      ],
      "text/plain": [
       "<IPython.core.display.Javascript object>"
      ]
     },
     "metadata": {},
     "output_type": "display_data"
    },
    {
     "data": {
      "text/plain": [
       "11AUG24192348-M1BS-055167893010_01_P001-BROWSE.JPG\r\n",
       "11AUG24192348-M1BS-055167893010_01_P001.ATT\r\n",
       "11AUG24192348-M1BS-055167893010_01_P001.EPH\r\n",
       "11AUG24192348-M1BS-055167893010_01_P001.GEO\r\n",
       "11AUG24192348-M1BS-055167893010_01_P001.IMD\r\n",
       "11AUG24192348-M1BS-055167893010_01_P001.RPB\r\n",
       "11AUG24192348-M1BS-055167893010_01_P001.TIF\r\n",
       "11AUG24192348-M1BS-055167893010_01_P001.TIL\r\n",
       "11AUG24192348-M1BS-055167893010_01_P001.XML\r\n",
       "11AUG24192348-M1BS-055167893010_01_P001_README.TXT\r\n",
       "BASE.TXT\r\n"
      ]
     },
     "metadata": {
      "echo": true
     },
     "output_type": "display_data"
    },
    {
     "data": {
      "application/javascript": [
       "$(\"#juno_status\").trigger(\"update\", [\"idle\"])"
      ],
      "text/plain": [
       "<IPython.core.display.Javascript object>"
      ]
     },
     "metadata": {},
     "output_type": "display_data"
    }
   ],
   "source": [
    "%%juno\n",
    "!ls /mnt/work/input/data/055167893010_01/055167893010_01_P001_MUL"
   ]
  }
 ],
 "metadata": {
  "anaconda-cloud": {},
  "kernelspec": {
   "display_name": "Python [conda env:ship]",
   "language": "python",
   "name": "conda-env-ship-py"
  },
  "language_info": {
   "codemirror_mode": {
    "name": "ipython",
    "version": 2
   },
   "file_extension": ".py",
   "mimetype": "text/x-python",
   "name": "python",
   "nbconvert_exporter": "python",
   "pygments_lexer": "ipython2",
   "version": "2.7.12"
  },
  "timbr_enabled": true
 },
 "nbformat": 4,
 "nbformat_minor": 1
}
