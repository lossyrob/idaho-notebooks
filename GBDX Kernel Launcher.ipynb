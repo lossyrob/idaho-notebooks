{
 "cells": [
  {
   "cell_type": "markdown",
   "metadata": {},
   "source": [
    "# Configure a GBDX Workflow that Launches a Juno Kernel\n",
    "\n",
    "This notebook guides you through launching a Jupyter kernel on [GBDX](https://gbdx.geobigdata.io/login), accessible via [Juno](https://juno.timbr.io).  To get started, you will need GBDX Credentials (available from the signup page), a DigitalGlobe Catalog ID for some imagery that you want to work with, and a Juno External Kernel token.\n",
    "\n",
    "\n",
    "## Set up GBDX and Juno Credentials\n",
    "\n",
    "Replace the credentials section below with yours. _Instructions on doing that?_\n"
   ]
  },
  {
   "cell_type": "code",
   "execution_count": 1,
   "metadata": {
    "collapsed": false
   },
   "outputs": [],
   "source": [
    "import requests\n",
    "from gbdxtools import Interface\n",
    "creds = {\n",
    "    \"client_id\": \"CLIENT_ID\",\n",
    "    \"client_secret\": \"CLIENT_SECRET\",\n",
    "    \"username\": \"my@email.com\",\n",
    "    \"password\": \"password\"\n",
    "}\n",
    "\n",
    "JUNO_KERNEL_TOKEN = \"JUNO_KERNEL_TOKEN\"\n",
    "\n",
    "gbdx = Interface(**creds)\n",
    "gbdx_headers = {\"Authorization\": \"Bearer {}\".format(gbdx.gbdx_connection.token.get(\"access_token\")), \"Content-Type\": \"application/json\"}"
   ]
  },
  {
   "cell_type": "markdown",
   "metadata": {},
   "source": [
    "## Specify Catalog IDs\n",
    "\n",
    "One way to find Catalog IDs is to use the [GBDX web application](https://gbdx.geobigdata.io).  These are from around Mexicali (Baja California, Mexico)."
   ]
  },
  {
   "cell_type": "code",
   "execution_count": 2,
   "metadata": {
    "collapsed": false
   },
   "outputs": [],
   "source": [
    "catalog_ids = [\"105001000126EF00\", \"101001000BAFE000\"]"
   ]
  },
  {
   "cell_type": "markdown",
   "metadata": {},
   "source": [
    "## Order Imagery\n",
    "\n",
    "This should complete nearly instantaneously since all the imagery is available"
   ]
  },
  {
   "cell_type": "code",
   "execution_count": 3,
   "metadata": {
    "collapsed": false,
    "scrolled": false
   },
   "outputs": [],
   "source": [
    "order_id = gbdx.ordering.order(catalog_ids)\n",
    "data_path = gbdx.ordering.status(order_id)[0]['location']"
   ]
  },
  {
   "cell_type": "markdown",
   "metadata": {},
   "source": [
    "## Launch The Kernel\n",
    "\n",
    "We construct a GBDX workflow to do some preprocessing and then provide the resulting imagery to a Juno Kernel that we'll be able to connect to.  This task uses DigitalGlobe algorithms on GBDX to orthorectify and compensate for atmospheric effects.  The results are 8-band multispectral images.  Since this is a computationally intensive operation, it can take some time to complete.  The status of the workflow can be seen using the `workflow.events` call in the 2nd cell below.\n",
    "\n",
    "Once the Juno kernel is running, its status indicator on the Juno home page will start blinking green.  At this point you can connect to it and run code against the imagery that you have selected."
   ]
  },
  {
   "cell_type": "code",
   "execution_count": 4,
   "metadata": {
    "collapsed": false
   },
   "outputs": [],
   "source": [
    "aoptask = gbdx.Task(\"AOP_Strip_Processor\", data=data_path, bands=\"MS\", enable_acomp=True, enable_pansharpen=False)\n",
    "junotask = gbdx.Task(\"Timbr-JunoBaseKernel\", JUNO_TOKEN=JUNO_KERNEL_TOKEN)\n",
    "junotask.inputs.data = aoptask.outputs.data.value\n",
    "workflow = gbdx.Workflow([aoptask, junotask])\n",
    "w_id = workflow.execute()"
   ]
  },
  {
   "cell_type": "code",
   "execution_count": 6,
   "metadata": {
    "collapsed": false
   },
   "outputs": [
    {
     "data": {
      "text/plain": [
       "[{u'event': u'submitted',\n",
       "  u'note': u'',\n",
       "  u'state': u'pending',\n",
       "  u'task': u'AOP_Strip_Processor_35116276-ef50-4b92-b22f-6bcc2c905632',\n",
       "  u'timestamp': u'2016-09-20T02:42:42.427344+00:00',\n",
       "  u'when': u'11 minutes ago'},\n",
       " {u'event': u'submitted',\n",
       "  u'note': u'',\n",
       "  u'state': u'pending',\n",
       "  u'task': u'Timbr-JunoBaseKernel_43e37cf5-dc2a-416e-b09c-4d3fa14f61b7',\n",
       "  u'timestamp': u'2016-09-20T02:42:42.432381+00:00',\n",
       "  u'when': u'11 minutes ago'}]"
      ]
     },
     "execution_count": 6,
     "metadata": {},
     "output_type": "execute_result"
    }
   ],
   "source": [
    "workflow.events"
   ]
  },
  {
   "cell_type": "markdown",
   "metadata": {},
   "source": [
    "## Find Running GBDX Tasks\n",
    "\n",
    "The Juno Kernel task will run for 2 days and then time out, we should probably clean up if we don't need it for that long."
   ]
  },
  {
   "cell_type": "code",
   "execution_count": 14,
   "metadata": {
    "collapsed": false
   },
   "outputs": [
    {
     "data": {
      "text/plain": [
       "{u'Workflows': [u'4425754928451478059']}"
      ]
     },
     "execution_count": 14,
     "metadata": {},
     "output_type": "execute_result"
    }
   ],
   "source": [
    "query = \"\"\"\n",
    "{\n",
    "    \"state\": \"running\"\n",
    "}\n",
    "\"\"\"\n",
    "resp = requests.post(\"https://geobigdata.io/workflows/v1/workflows/search\", headers=gbdx_headers, data=query)\n",
    "workflows = resp.json()\n",
    "workflows"
   ]
  },
  {
   "cell_type": "code",
   "execution_count": 15,
   "metadata": {
    "collapsed": true
   },
   "outputs": [],
   "source": [
    "gbdx.workflow.cancel(workflows[\"Workflows\"][0])"
   ]
  }
 ],
 "metadata": {
  "anaconda-cloud": {},
  "kernelspec": {
   "display_name": "Python [conda env:ship]",
   "language": "python",
   "name": "conda-env-ship-py"
  },
  "language_info": {
   "codemirror_mode": {
    "name": "ipython",
    "version": 2
   },
   "file_extension": ".py",
   "mimetype": "text/x-python",
   "name": "python",
   "nbconvert_exporter": "python",
   "pygments_lexer": "ipython2",
   "version": "2.7.12"
  },
  "timbr_enabled": false
 },
 "nbformat": 4,
 "nbformat_minor": 1
}
